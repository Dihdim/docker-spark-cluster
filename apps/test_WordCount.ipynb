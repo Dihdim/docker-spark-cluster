{
 "cells": [
  {
   "cell_type": "code",
   "execution_count": 2,
   "metadata": {},
   "outputs": [],
   "source": [
    "import sys\n",
    "import os\n",
    "\n",
    "sys.path.insert(0, '/spark/python')\n",
    "sys.path.insert(0, '/spark/python/lib/py4j-0.10.7-src.zip')\n",
    "\n",
    "os.environ['SPARK_HOME'] = '/spark'"
   ]
  },
  {
   "cell_type": "code",
   "execution_count": 4,
   "metadata": {},
   "outputs": [],
   "source": [
    "import pyspark\n",
    "conf = pyspark.SparkConf()\n",
    "conf.setMaster(\"spark://172.21.0.1:7077\")\n",
    "conf.set(\"spark.driver.memory\",\"1g\")\n",
    "conf.set(\"spark.executor.memory\",\"1g\")\n",
    "conf.set(\"spark.num.executors\",\"1\")\n",
    "conf.set(\"spark.executor.cores\",\"1\")\n",
    "\n",
    "sc = pyspark.SparkContext(conf=conf)"
   ]
  },
  {
   "cell_type": "code",
   "execution_count": 5,
   "metadata": {},
   "outputs": [],
   "source": [
    "textFile = sc.textFile(\"/opt/spark-data/gutenberg-shakespeare.txt\")"
   ]
  },
  {
   "cell_type": "code",
   "execution_count": 6,
   "metadata": {},
   "outputs": [
    {
     "name": "stdout",
     "output_type": "stream",
     "text": [
      "CPU times: user 13.8 ms, sys: 2.98 ms, total: 16.8 ms\n",
      "Wall time: 2.08 s\n"
     ]
    },
    {
     "data": {
      "text/plain": [
       "124213"
      ]
     },
     "execution_count": 6,
     "metadata": {},
     "output_type": "execute_result"
    }
   ],
   "source": [
    "%%time\n",
    "textFile.count()"
   ]
  },
  {
   "cell_type": "code",
   "execution_count": 8,
   "metadata": {},
   "outputs": [],
   "source": [
    "wordcount = textFile.flatMap(lambda line: line.split(\" \")) \\\n",
    "            .map(lambda word: (word, 1)) \\\n",
    "            .reduceByKey(lambda a, b: a + b)"
   ]
  },
  {
   "cell_type": "code",
   "execution_count": 7,
   "metadata": {},
   "outputs": [],
   "source": [
    "!mkdir /opt/spark-output"
   ]
  },
  {
   "cell_type": "code",
   "execution_count": 14,
   "metadata": {},
   "outputs": [
    {
     "data": {
      "text/plain": [
       "[('', 516839),\n",
       " ('meteors.', 1),\n",
       " ('Seeming', 3),\n",
       " ('Greeks?', 1),\n",
       " ('Titinius,', 10),\n",
       " ('Unwilling,', 1),\n",
       " ('extraordinarily', 1),\n",
       " ('Whistling', 1),\n",
       " ('molest!', 1),\n",
       " (\"woo't\", 4),\n",
       " ('Puritan', 2),\n",
       " ('gentlest', 1),\n",
       " ('proposer', 1),\n",
       " ('wilfulness', 1),\n",
       " ('Graces,', 1),\n",
       " ('likelihood', 9),\n",
       " ('attendant.]', 2),\n",
       " ('fashion!', 1),\n",
       " (\"disloyal.'\", 1),\n",
       " ('tournaments,', 1),\n",
       " ('execution!', 1),\n",
       " ('exit]', 1),\n",
       " (\"We'll\", 145),\n",
       " ('poorly', 6),\n",
       " ('teachest', 5),\n",
       " (\"Holmedon's\", 1),\n",
       " ('innocency,', 1),\n",
       " (\"have't!\", 1),\n",
       " ('sight:', 1),\n",
       " ('billets.', 1),\n",
       " ('No', 420),\n",
       " ('illustrious', 5),\n",
       " (\"grave's\", 2),\n",
       " ('smiling;', 2),\n",
       " ('that!', 11),\n",
       " ('Half', 13),\n",
       " (\"sold.'\", 1),\n",
       " ('Ass,', 1),\n",
       " ('ill-shaped', 1),\n",
       " ('knotty-pated', 1),\n",
       " ('Saturn;', 1),\n",
       " ('vial', 1),\n",
       " ('COMMONS.', 2),\n",
       " ('sovereign)', 1),\n",
       " ('ransom?', 3),\n",
       " ('jet,', 2),\n",
       " ('out-swear', 1),\n",
       " ('would,', 27),\n",
       " ('idleness,', 3),\n",
       " ('suit', 80)]"
      ]
     },
     "execution_count": 14,
     "metadata": {},
     "output_type": "execute_result"
    }
   ],
   "source": [
    "wordcount.take(50)"
   ]
  },
  {
   "cell_type": "code",
   "execution_count": 9,
   "metadata": {},
   "outputs": [],
   "source": [
    "wordcount.saveAsTextFile(\"/opt/spark-output/output-wordcount-01\")"
   ]
  },
  {
   "cell_type": "code",
   "execution_count": 12,
   "metadata": {},
   "outputs": [
    {
     "name": "stdout",
     "output_type": "stream",
     "text": [
      "_SUCCESS\r\n"
     ]
    }
   ],
   "source": [
    "!ls /opt/spark-output/output-wordcount-01/"
   ]
  },
  {
   "cell_type": "code",
   "execution_count": 11,
   "metadata": {},
   "outputs": [
    {
     "name": "stdout",
     "output_type": "stream",
     "text": [
      "head: cannot open '/opt/spark-output/output-wordcount-01/part-00000' for reading: No such file or directory\r\n"
     ]
    }
   ],
   "source": [
    "!head -n 20 /opt/spark-output/output-wordcount-01/part-00000"
   ]
  }
 ],
 "metadata": {
  "kernelspec": {
   "display_name": "Python 3",
   "language": "python",
   "name": "python3"
  },
  "language_info": {
   "codemirror_mode": {
    "name": "ipython",
    "version": 3
   },
   "file_extension": ".py",
   "mimetype": "text/x-python",
   "name": "python",
   "nbconvert_exporter": "python",
   "pygments_lexer": "ipython3",
   "version": "3.5.3"
  }
 },
 "nbformat": 4,
 "nbformat_minor": 2
}
