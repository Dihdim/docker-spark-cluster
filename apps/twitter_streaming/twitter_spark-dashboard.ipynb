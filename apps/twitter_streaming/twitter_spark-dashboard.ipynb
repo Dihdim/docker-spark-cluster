{
 "cells": [
  {
   "cell_type": "code",
   "execution_count": null,
   "metadata": {},
   "outputs": [],
   "source": [
    "from __future__ import print_function\n",
    "\n",
    "import sys\n",
    "import os\n",
    "from IPython.display import display, clear_output\n",
    "\n",
    "sys.path.insert(0, '/spark/python')\n",
    "sys.path.insert(0, '/spark/python/lib/py4j-0.10.7-src.zip')\n",
    "os.environ['SPARK_HOME'] = '/spark'\n",
    "\n",
    "import pyspark\n",
    "conf = pyspark.SparkConf()\n",
    "conf.setMaster(\"spark://spark-master:7077\")\n",
    "conf.set(\"spark.driver.memory\",\"1g\")\n",
    "conf.set(\"spark.executor.memory\",\"1g\")\n",
    "conf.set(\"spark.num.executors\",\"2\")\n",
    "conf.set(\"spark.executor.cores\",\"1\")\n",
    "sc = pyspark.SparkContext(conf=conf)\n",
    "print(sc)\n",
    "\n",
    "from pyspark.streaming import StreamingContext\n",
    "from pyspark.sql import Row,SQLContext,SparkSession\n",
    "\n",
    "ssc = pyspark.streaming.StreamingContext(sc, 5)\n",
    "ssc.checkpoint(\"checkpoint_TwitterApp\")\n",
    "print(ssc)"
   ]
  },
  {
   "cell_type": "code",
   "execution_count": null,
   "metadata": {},
   "outputs": [],
   "source": [
    "HOST = '17.18.0.2'  # IP address of spark-master\n",
    "PORT = 9009  \n",
    "\n",
    "def aggregate_tags_count(new_values, total_sum):\n",
    "    return sum(new_values) + (total_sum or 0)\n",
    "\n",
    "def getSparkSessionInstance(sparkConf):\n",
    "    if ('sparkSessionSingletonInstance' not in globals()):\n",
    "        globals()['sparkSessionSingletonInstance'] = SparkSession\\\n",
    "            .builder\\\n",
    "            .config(conf=sparkConf)\\\n",
    "            .getOrCreate()\n",
    "    return globals()['sparkSessionSingletonInstance']\n",
    "\n",
    "def send_df_to_dashboard(df):\n",
    "    # extract the hashtags from dataframe and convert them into array\n",
    "    top_tags = [str(t.hashtag) for t in df.select(\"hashtag\").collect()]\n",
    "    # extract the counts from dataframe and convert them into array\n",
    "    tags_count = [p.hashtag_count for p in df.select(\"hashtag_count\").collect()]\n",
    "    # initialize and send the data through REST API\n",
    "    url = 'http://' + HOST + ':5001/updateData'\n",
    "    request_data = {'label': str(top_tags), 'data': str(tags_count)}\n",
    "    response = requests.post(url, data=request_data)"
   ]
  },
  {
   "cell_type": "code",
   "execution_count": null,
   "metadata": {},
   "outputs": [],
   "source": [
    "def process_rdd(time, rdd):\n",
    "    #clear_output()\n",
    "    print(\"----------- %s -----------\" % str(time))\n",
    "    try:\n",
    "        sql_context = getSparkSessionInstance(rdd.context.getConf())\n",
    "        print(sql_context)\n",
    "        # convert the RDD to Row RDD\n",
    "        row_rdd = rdd.map(lambda w: pyspark.sql.Row(hashtag=w[0], hashtag_count=w[1]))\n",
    "        print(row_rdd.take(5))\n",
    "        # create a DF from the Row RDD\n",
    "        hashtags_df = sql_context.createDataFrame(row_rdd, (\"hashtag\",\"hashtag_count\"))\n",
    "        #hashtag_df.sql_ctx.sparkSession._jsparkSession = rdd.context._jsparkSession\n",
    "        #hashtag_df._sc = rdd.context._sc\n",
    "        print(hashtags_df.show())\n",
    "        print(\"done data frame\")\n",
    "        # Register the dataframe as table\n",
    "        hashtags_df.createOrReplaceTempView(\"hashtags\")\n",
    "        print(\"Finish creating table ...\")\n",
    "        # get the top 10 hashtags from the table using SQL and print them\n",
    "        sql_stmt = \"select hashtag, hashtag_count from hashtags order by hashtag_count desc limit 10\"\n",
    "        hashtag_counts_df = sql_context.sql(sql_stmt)\n",
    "        #hashtag_counts_df.show()\n",
    "\n",
    "        # call this method to prepare top 10 hashtags DF and send them\n",
    "        send_df_to_dashboard(hashtag_counts_df)\n",
    "    except:\n",
    "        d = sys.exc_info()\n",
    "        e = sys.exc_info()[1]\n",
    "        #print(\"Error: %s\" % e)\n",
    "        print(e)"
   ]
  },
  {
   "cell_type": "code",
   "execution_count": null,
   "metadata": {
    "scrolled": true
   },
   "outputs": [],
   "source": [
    "lines = ssc.socketTextStream(HOST, PORT)\n",
    "words = lines.flatMap(lambda line: line.split(\" \"))\n",
    "\n",
    "hashtags = words.filter(lambda w: '#' in w).map(lambda w: (w, 1))\n",
    "tags_totals = hashtags.updateStateByKey(aggregate_tags_count)\n",
    "tags_totals.foreachRDD(process_rdd)\n",
    "\n",
    "ssc.start()\n",
    "ssc.awaitTermination()"
   ]
  },
  {
   "cell_type": "code",
   "execution_count": null,
   "metadata": {},
   "outputs": [],
   "source": [
    "ssc.stop()\n",
    "sc.stop()"
   ]
  },
  {
   "cell_type": "code",
   "execution_count": null,
   "metadata": {},
   "outputs": [],
   "source": []
  }
 ],
 "metadata": {
  "kernelspec": {
   "display_name": "Python 3",
   "language": "python",
   "name": "python3"
  },
  "language_info": {
   "codemirror_mode": {
    "name": "ipython",
    "version": 3
   },
   "file_extension": ".py",
   "mimetype": "text/x-python",
   "name": "python",
   "nbconvert_exporter": "python",
   "pygments_lexer": "ipython3",
   "version": "3.5.3"
  }
 },
 "nbformat": 4,
 "nbformat_minor": 4
}
