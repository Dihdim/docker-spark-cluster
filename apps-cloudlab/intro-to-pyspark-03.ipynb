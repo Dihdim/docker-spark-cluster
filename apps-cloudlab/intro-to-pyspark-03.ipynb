{
 "cells": [
  {
   "cell_type": "markdown",
   "metadata": {},
   "source": [
    "# <center> Introduction to Spark In-memory Computing via Python PySpark </center>"
   ]
  },
  {
   "cell_type": "code",
   "execution_count": 1,
   "metadata": {
    "scrolled": true
   },
   "outputs": [
    {
     "data": {
      "text/html": [
       "\n",
       "        <div>\n",
       "            <p><b>SparkContext</b></p>\n",
       "\n",
       "            <p><a href=\"http://clnode225.clemson.cloudlab.us:4043\">Spark UI</a></p>\n",
       "\n",
       "            <dl>\n",
       "              <dt>Version</dt>\n",
       "                <dd><code>v2.3.1.3.0.1.0-187</code></dd>\n",
       "              <dt>Master</dt>\n",
       "                <dd><code>yarn</code></dd>\n",
       "              <dt>AppName</dt>\n",
       "                <dd><code>pyspark-shell</code></dd>\n",
       "            </dl>\n",
       "        </div>\n",
       "        "
      ],
      "text/plain": [
       "<SparkContext master=yarn appName=pyspark-shell>"
      ]
     },
     "execution_count": 1,
     "metadata": {},
     "output_type": "execute_result"
    }
   ],
   "source": [
    "import sys\n",
    "import os\n",
    "\n",
    "sys.path.insert(0, '/usr/hdp/current/spark2-client/python')\n",
    "sys.path.insert(0, '/usr/hdp/current/spark2-client/python/lib/py4j-0.10.7-src.zip')\n",
    "\n",
    "os.environ['SPARK_HOME'] = '/usr/hdp/current/spark2-client/'\n",
    "os.environ['SPARK_CONF_DIR'] = '/etc/spark2/conf'\n",
    "os.environ['PYSPARK_PYTHON'] = '/opt/anaconda3/bin/python'\n",
    "\n",
    "import pyspark\n",
    "conf = pyspark.SparkConf()\n",
    "conf.setMaster(\"yarn\")\n",
    "conf.set(\"spark.driver.memory\",\"2g\")\n",
    "conf.set(\"spark.executor.instances\", \"5\")\n",
    "conf.set(\"spark.executor.memory\",\"5g\")\n",
    "conf.set(\"spark.executor.cores\",\"5\")\n",
    "\n",
    "sc = pyspark.SparkContext(conf=conf)\n",
    "sc"
   ]
  },
  {
   "cell_type": "markdown",
   "metadata": {
    "collapsed": true
   },
   "source": [
    "### Airlines Data"
   ]
  },
  {
   "cell_type": "markdown",
   "metadata": {},
   "source": [
    "**Spark SQL**\n",
    "- Spark module for structured data processing\n",
    "- provides more information about the structure of both the data and the computation being performed for additional optimization\n",
    "- execute SQL queries written using either a basic SQL syntax or HiveQL\n",
    "\n",
    "**DataFrame**\n",
    "- a distributed collection of data organized into named columns\n",
    "- conceptually equivalent to a table in a relational database or a data frame in R/Python, but with richer optimizations under the hood\n",
    "- can be constructed from a wide array of sources such as: structured data files, tables in Hive, external databases, or existing RDDs"
   ]
  },
  {
   "cell_type": "code",
   "execution_count": 2,
   "metadata": {},
   "outputs": [
    {
     "data": {
      "text/plain": [
       "<pyspark.sql.context.SQLContext at 0x7fa12cdc8850>"
      ]
     },
     "execution_count": 2,
     "metadata": {},
     "output_type": "execute_result"
    }
   ],
   "source": [
    "sqlContext = pyspark.SQLContext(sc)\n",
    "sqlContext"
   ]
  },
  {
   "cell_type": "code",
   "execution_count": 3,
   "metadata": {},
   "outputs": [
    {
     "name": "stdout",
     "output_type": "stream",
     "text": [
      "Found 22 items\r\n",
      "-rw-r--r--   3 hdfs hdfs    121.3 M 2019-12-30 11:28 /repository/airlines/data/1987.csv\r\n",
      "-rw-r--r--   3 hdfs hdfs    477.8 M 2019-12-30 11:28 /repository/airlines/data/1988.csv\r\n",
      "-rw-r--r--   3 hdfs hdfs    464.0 M 2019-12-30 11:28 /repository/airlines/data/1989.csv\r\n",
      "-rw-r--r--   3 hdfs hdfs    485.6 M 2019-12-30 11:29 /repository/airlines/data/1990.csv\r\n",
      "-rw-r--r--   3 hdfs hdfs    468.5 M 2019-12-30 11:28 /repository/airlines/data/1991.csv\r\n",
      "-rw-r--r--   3 hdfs hdfs    469.5 M 2019-12-30 11:27 /repository/airlines/data/1992.csv\r\n",
      "-rw-r--r--   3 hdfs hdfs    468.0 M 2019-12-30 11:29 /repository/airlines/data/1993.csv\r\n",
      "-rw-r--r--   3 hdfs hdfs    478.3 M 2019-12-30 11:29 /repository/airlines/data/1994.csv\r\n",
      "-rw-r--r--   3 hdfs hdfs    506.2 M 2019-12-30 11:28 /repository/airlines/data/1995.csv\r\n",
      "-rw-r--r--   3 hdfs hdfs    509.2 M 2019-12-30 11:29 /repository/airlines/data/1996.csv\r\n",
      "-rw-r--r--   3 hdfs hdfs    515.3 M 2019-12-30 11:29 /repository/airlines/data/1997.csv\r\n",
      "-rw-r--r--   3 hdfs hdfs    513.5 M 2019-12-30 11:28 /repository/airlines/data/1998.csv\r\n",
      "-rw-r--r--   3 hdfs hdfs    527.3 M 2019-12-30 11:29 /repository/airlines/data/1999.csv\r\n",
      "-rw-r--r--   3 hdfs hdfs    543.7 M 2019-12-30 11:27 /repository/airlines/data/2000.csv\r\n",
      "-rw-r--r--   3 hdfs hdfs    572.6 M 2019-12-30 11:28 /repository/airlines/data/2001.csv\r\n",
      "-rw-r--r--   3 hdfs hdfs    505.9 M 2019-12-30 11:28 /repository/airlines/data/2002.csv\r\n",
      "-rw-r--r--   3 hdfs hdfs    597.7 M 2019-12-30 11:27 /repository/airlines/data/2003.csv\r\n",
      "-rw-r--r--   3 hdfs hdfs    638.8 M 2019-12-30 11:29 /repository/airlines/data/2004.csv\r\n",
      "-rw-r--r--   3 hdfs hdfs    639.9 M 2019-12-30 11:28 /repository/airlines/data/2005.csv\r\n",
      "-rw-r--r--   3 hdfs hdfs    640.9 M 2019-12-30 11:28 /repository/airlines/data/2006.csv\r\n",
      "-rw-r--r--   3 hdfs hdfs    670.3 M 2019-12-30 11:28 /repository/airlines/data/2007.csv\r\n",
      "-rw-r--r--   3 hdfs hdfs    657.5 M 2019-12-30 11:29 /repository/airlines/data/2008.csv\r\n"
     ]
    }
   ],
   "source": [
    "!hdfs dfs -ls -h /repository/airlines/data"
   ]
  },
  {
   "cell_type": "code",
   "execution_count": 4,
   "metadata": {},
   "outputs": [],
   "source": [
    "airlines = sqlContext.read.format(\"com.databricks.spark.csv\")\\\n",
    "    .option(\"header\", \"true\")\\\n",
    "    .option(\"inferschema\", \"true\")\\\n",
    "    .load(\"/repository/airlines/data/1987.csv\")\\\n",
    "    .cache()"
   ]
  },
  {
   "cell_type": "code",
   "execution_count": 5,
   "metadata": {},
   "outputs": [
    {
     "name": "stdout",
     "output_type": "stream",
     "text": [
      "CPU times: user 2.17 ms, sys: 211 µs, total: 2.38 ms\n",
      "Wall time: 2.62 s\n"
     ]
    },
    {
     "data": {
      "text/plain": [
       "1311826"
      ]
     },
     "execution_count": 5,
     "metadata": {},
     "output_type": "execute_result"
    }
   ],
   "source": [
    "%%time\n",
    "airlines.count()"
   ]
  },
  {
   "cell_type": "code",
   "execution_count": 6,
   "metadata": {},
   "outputs": [
    {
     "name": "stdout",
     "output_type": "stream",
     "text": [
      "CPU times: user 1.69 ms, sys: 0 ns, total: 1.69 ms\n",
      "Wall time: 376 ms\n"
     ]
    },
    {
     "data": {
      "text/plain": [
       "1311826"
      ]
     },
     "execution_count": 6,
     "metadata": {},
     "output_type": "execute_result"
    }
   ],
   "source": [
    "%%time\n",
    "airlines.count()"
   ]
  },
  {
   "cell_type": "code",
   "execution_count": 7,
   "metadata": {},
   "outputs": [
    {
     "name": "stdout",
     "output_type": "stream",
     "text": [
      "root\n",
      " |-- Year: integer (nullable = true)\n",
      " |-- Month: integer (nullable = true)\n",
      " |-- DayofMonth: integer (nullable = true)\n",
      " |-- DayOfWeek: integer (nullable = true)\n",
      " |-- DepTime: string (nullable = true)\n",
      " |-- CRSDepTime: integer (nullable = true)\n",
      " |-- ArrTime: string (nullable = true)\n",
      " |-- CRSArrTime: integer (nullable = true)\n",
      " |-- UniqueCarrier: string (nullable = true)\n",
      " |-- FlightNum: integer (nullable = true)\n",
      " |-- TailNum: string (nullable = true)\n",
      " |-- ActualElapsedTime: string (nullable = true)\n",
      " |-- CRSElapsedTime: integer (nullable = true)\n",
      " |-- AirTime: string (nullable = true)\n",
      " |-- ArrDelay: string (nullable = true)\n",
      " |-- DepDelay: string (nullable = true)\n",
      " |-- Origin: string (nullable = true)\n",
      " |-- Dest: string (nullable = true)\n",
      " |-- Distance: string (nullable = true)\n",
      " |-- TaxiIn: string (nullable = true)\n",
      " |-- TaxiOut: string (nullable = true)\n",
      " |-- Cancelled: integer (nullable = true)\n",
      " |-- CancellationCode: string (nullable = true)\n",
      " |-- Diverted: integer (nullable = true)\n",
      " |-- CarrierDelay: string (nullable = true)\n",
      " |-- WeatherDelay: string (nullable = true)\n",
      " |-- NASDelay: string (nullable = true)\n",
      " |-- SecurityDelay: string (nullable = true)\n",
      " |-- LateAircraftDelay: string (nullable = true)\n",
      "\n"
     ]
    }
   ],
   "source": [
    "airlines.printSchema()"
   ]
  },
  {
   "cell_type": "markdown",
   "metadata": {},
   "source": [
    "You can interact with a DataFrame via SQLContext using SQL statements by registering the DataFrame as a table"
   ]
  },
  {
   "cell_type": "code",
   "execution_count": 16,
   "metadata": {},
   "outputs": [],
   "source": [
    "airlines.registerTempTable(\"airlines\")"
   ]
  },
  {
   "cell_type": "markdown",
   "metadata": {},
   "source": [
    "*How many unique airlines are there?*"
   ]
  },
  {
   "cell_type": "code",
   "execution_count": 17,
   "metadata": {
    "scrolled": true
   },
   "outputs": [
    {
     "name": "stdout",
     "output_type": "stream",
     "text": [
      "+-------------+\n",
      "|UniqueCarrier|\n",
      "+-------------+\n",
      "|           UA|\n",
      "|           EA|\n",
      "|           PI|\n",
      "|           PS|\n",
      "|           AA|\n",
      "|           NW|\n",
      "|           HP|\n",
      "|           TW|\n",
      "|           DL|\n",
      "|           US|\n",
      "|           AS|\n",
      "|           CO|\n",
      "|       PA (1)|\n",
      "|           WN|\n",
      "+-------------+\n",
      "\n"
     ]
    }
   ],
   "source": [
    "uniqueAirline = sqlContext.sql(\"SELECT DISTINCT UniqueCarrier \\\n",
    "                                FROM airlines\")\n",
    "uniqueAirline.show()"
   ]
  },
  {
   "cell_type": "markdown",
   "metadata": {},
   "source": [
    "*Calculate how many flights completed by each carrier over time*"
   ]
  },
  {
   "cell_type": "code",
   "execution_count": 19,
   "metadata": {
    "scrolled": true
   },
   "outputs": [
    {
     "name": "stdout",
     "output_type": "stream",
     "text": [
      "+-------------+-----------+\n",
      "|UniqueCarrier|FlightCount|\n",
      "+-------------+-----------+\n",
      "|           UA|     152624|\n",
      "|           EA|     108776|\n",
      "|           PI|     116482|\n",
      "|           PS|      41706|\n",
      "|           AA|     165121|\n",
      "|           NW|     108273|\n",
      "|           HP|      45399|\n",
      "|           TW|      69650|\n",
      "|           DL|     185813|\n",
      "|           US|      94814|\n",
      "|           AS|      21406|\n",
      "|           CO|     123002|\n",
      "|       PA (1)|      16785|\n",
      "|           WN|      61975|\n",
      "+-------------+-----------+\n",
      "\n",
      "CPU times: user 741 µs, sys: 1.47 ms, total: 2.21 ms\n",
      "Wall time: 402 ms\n"
     ]
    }
   ],
   "source": [
    "%%time\n",
    "carrierFlightCount = sqlContext.sql(\"SELECT UniqueCarrier, COUNT(UniqueCarrier) AS FlightCount \\\n",
    "                                    FROM airlines GROUP BY UniqueCarrier\")\n",
    "carrierFlightCount.show()"
   ]
  },
  {
   "cell_type": "markdown",
   "metadata": {},
   "source": [
    "*How do you display full carrier names?*"
   ]
  },
  {
   "cell_type": "code",
   "execution_count": 21,
   "metadata": {},
   "outputs": [],
   "source": [
    "carriers = sqlContext.read.format(\"com.databricks.spark.csv\")\\\n",
    "    .option(\"header\", \"true\")\\\n",
    "    .option(\"inferschema\", \"true\")\\\n",
    "    .load(\"/repository/airlines/metadata/carriers.csv\")\\\n",
    "    .cache()\n",
    "carriers.registerTempTable(\"carriers\")"
   ]
  },
  {
   "cell_type": "code",
   "execution_count": 22,
   "metadata": {},
   "outputs": [
    {
     "name": "stdout",
     "output_type": "stream",
     "text": [
      "root\n",
      " |-- Code: string (nullable = true)\n",
      " |-- Description: string (nullable = true)\n",
      "\n"
     ]
    }
   ],
   "source": [
    "carriers.printSchema()"
   ]
  },
  {
   "cell_type": "code",
   "execution_count": 23,
   "metadata": {},
   "outputs": [
    {
     "name": "stdout",
     "output_type": "stream",
     "text": [
      "+--------------------+-------------+-----------+\n",
      "|         Description|UniqueCarrier|FlightCount|\n",
      "+--------------------+-------------+-----------+\n",
      "|American Airlines...|           AA|     165121|\n",
      "|Alaska Airlines Inc.|           AS|      21406|\n",
      "|Continental Air L...|           CO|     123002|\n",
      "|Delta Air Lines Inc.|           DL|     185813|\n",
      "|Eastern Air Lines...|           EA|     108776|\n",
      "|America West Airl...|           HP|      45399|\n",
      "|Northwest Airline...|           NW|     108273|\n",
      "|Pan American Worl...|       PA (1)|      16785|\n",
      "|Piedmont Aviation...|           PI|     116482|\n",
      "|Pacific Southwest...|           PS|      41706|\n",
      "|Trans World Airwa...|           TW|      69650|\n",
      "|United Air Lines ...|           UA|     152624|\n",
      "|US Airways Inc. (...|           US|      94814|\n",
      "|Southwest Airline...|           WN|      61975|\n",
      "+--------------------+-------------+-----------+\n",
      "\n",
      "CPU times: user 2.02 ms, sys: 49 µs, total: 2.07 ms\n",
      "Wall time: 1.33 s\n"
     ]
    }
   ],
   "source": [
    "%%time\n",
    "carrierFlightCountFullName = sqlContext.sql(\"SELECT c.Description, a.UniqueCarrier, COUNT(a.UniqueCarrier) AS FlightCount \\\n",
    "                                    FROM airlines AS a \\\n",
    "                                    INNER JOIN carriers AS c \\\n",
    "                                    ON c.Code = a.UniqueCarrier \\\n",
    "                                    GROUP BY a.UniqueCarrier, c.Description \\\n",
    "                                    ORDER BY a.UniqueCarrier\")\n",
    "carrierFlightCountFullName.show()"
   ]
  },
  {
   "cell_type": "markdown",
   "metadata": {},
   "source": [
    "*What is the averaged departure delay time for each airline?*"
   ]
  },
  {
   "cell_type": "code",
   "execution_count": 24,
   "metadata": {},
   "outputs": [
    {
     "name": "stdout",
     "output_type": "stream",
     "text": [
      "+-------------------------+---------------------------+------------------+\n",
      "|first(Description, false)|first(UniqueCarrier, false)|       AvgDepDelay|\n",
      "+-------------------------+---------------------------+------------------+\n",
      "|     American Airlines...|                         AA| 5.931756197713971|\n",
      "|     Alaska Airlines Inc.|                         AS| 8.302911613420791|\n",
      "|     Continental Air L...|                         CO|12.620661609706707|\n",
      "|     Delta Air Lines Inc.|                         DL|7.3701212477415705|\n",
      "|     Eastern Air Lines...|                         EA| 8.832762739602341|\n",
      "|     America West Airl...|                         HP| 6.196152731649689|\n",
      "|     Northwest Airline...|                         NW| 6.856916558873704|\n",
      "|     Pan American Worl...|                     PA (1)| 4.951404799228265|\n",
      "|     Piedmont Aviation...|                         PI| 7.724536454582527|\n",
      "|     Pacific Southwest...|                         PS| 13.31959242658045|\n",
      "|     Trans World Airwa...|                         TW| 7.098323271010277|\n",
      "|     United Air Lines ...|                         UA| 8.287704104887792|\n",
      "|     US Airways Inc. (...|                         US|  7.38329133841525|\n",
      "|     Southwest Airline...|                         WN| 8.464397496087637|\n",
      "+-------------------------+---------------------------+------------------+\n",
      "\n",
      "CPU times: user 1.08 ms, sys: 1.01 ms, total: 2.09 ms\n",
      "Wall time: 1.57 s\n"
     ]
    }
   ],
   "source": [
    "%%time\n",
    "avgDepartureDelay = sqlContext.sql(\"SELECT FIRST(c.Description), FIRST(a.UniqueCarrier), AVG(a.DepDelay) AS AvgDepDelay \\\n",
    "                                    FROM airlines AS a \\\n",
    "                                    INNER JOIN carriers AS c \\\n",
    "                                    ON c.Code = a.UniqueCarrier \\\n",
    "                                    GROUP BY a.UniqueCarrier \\\n",
    "                                    ORDER BY a.UniqueCarrier\")\n",
    "avgDepartureDelay.show()"
   ]
  },
  {
   "cell_type": "code",
   "execution_count": null,
   "metadata": {},
   "outputs": [],
   "source": [
    "airlines.unpersist()"
   ]
  },
  {
   "cell_type": "code",
   "execution_count": null,
   "metadata": {},
   "outputs": [],
   "source": [
    "sc.stop()"
   ]
  },
  {
   "cell_type": "code",
   "execution_count": null,
   "metadata": {},
   "outputs": [],
   "source": []
  }
 ],
 "metadata": {
  "kernelspec": {
   "display_name": "Python 3",
   "language": "python",
   "name": "python3"
  },
  "language_info": {
   "codemirror_mode": {
    "name": "ipython",
    "version": 3
   },
   "file_extension": ".py",
   "mimetype": "text/x-python",
   "name": "python",
   "nbconvert_exporter": "python",
   "pygments_lexer": "ipython3",
   "version": "3.7.4"
  }
 },
 "nbformat": 4,
 "nbformat_minor": 1
}
