{
 "cells": [
  {
   "cell_type": "markdown",
   "metadata": {},
   "source": [
    "# <center> Kafka Producer for Twitter </center>"
   ]
  },
  {
   "cell_type": "code",
   "execution_count": null,
   "metadata": {},
   "outputs": [],
   "source": [
    "!/usr/hdp/current/kafka-broker/bin/kafka-topics.sh --list --zookeeper clnode222.clemson.cloudlab.us:2181"
   ]
  },
  {
   "cell_type": "code",
   "execution_count": null,
   "metadata": {
    "scrolled": true
   },
   "outputs": [],
   "source": [
    "from confluent_kafka import Producer\n",
    "import sys\n",
    "\n",
    "import logging\n",
    "import json\n",
    "\n",
    "from datetime import datetime\n",
    "\n",
    "from tweepy.streaming import StreamListener\n",
    "from tweepy import OAuthHandler\n",
    "from tweepy import Stream\n",
    "\n",
    "broker = 'clnode225.clemson.cloudlab.us:6667'\n",
    "topic = 'twitter'\n",
    "\n",
    "# Producer configuration\n",
    "# See https://github.com/edenhill/librdkafka/blob/master/CONFIGURATION.md\n",
    "conf = {'bootstrap.servers': broker}\n",
    "\n",
    "# Create Producer instance\n",
    "p = Producer(**conf)\n",
    "\n",
    "# Optional per-message delivery callback (triggered by poll() or flush())\n",
    "# when a message has been successfully delivered or permanently\n",
    "# failed delivery (after retries).\n",
    "def delivery_callback(err, msg):\n",
    "    if err:\n",
    "        sys.stderr.write('%% Message failed delivery: %s\\n' % err)\n",
    "    else:\n",
    "        sys.stderr.write('%% Message key %s delivered to %s [%d]\\n' % (msg.key(), msg.topic(), msg.partition()))\n",
    "\n",
    "class StdOutListener(StreamListener):\n",
    "    def on_data(self, data):\n",
    "        try:\n",
    "            jsonData = json.loads(data)\n",
    "            p.produce(topic, json.dumps(data), key=str(jsonData['id']), callback=delivery_callback)\n",
    "        except BufferError as e:\n",
    "            sys.stderr.write('%% Local producer queue is full (%d messages awaiting delivery): try again\\n' % len(p))\n",
    "        p.poll(0)\n",
    "        return True\n",
    "    def on_error(self, status):\n",
    "        print (status)\n",
    "        \n",
    "# read cert (not on github)\n",
    "keyFile = open('/users/lngo/.cert','r')\n",
    "CONSUMER_KEY = keyFile.readline().rstrip()\n",
    "CONSUMER_SECRET = keyFile.readline().rstrip()\n",
    "ACCESS_TOKEN_KEY = keyFile.readline().rstrip()\n",
    "ACCESS_TOKEN_SECRET = keyFile.readline().rstrip()\n",
    "\n",
    "auth = OAuthHandler(CONSUMER_KEY, CONSUMER_SECRET)\n",
    "auth.set_access_token(ACCESS_TOKEN_KEY, ACCESS_TOKEN_SECRET)\n",
    "\n",
    "while True:\n",
    "    try:\n",
    "        stream = Stream(auth, StdOutListener())\n",
    "        stream.filter(track=['Clemson'])\n",
    "    except IncompleteRead:\n",
    "        print (\"Lets try it again\")\n",
    "        continue\n",
    "    except KeyboardInterrupt:\n",
    "        stream.disconnect()\n",
    "        break\n",
    "        \n",
    "# Wait until all messages have been delivered\n",
    "sys.stderr.write('%% Waiting for %d deliveries\\n' % len(p))\n",
    "p.flush()"
   ]
  },
  {
   "cell_type": "code",
   "execution_count": null,
   "metadata": {},
   "outputs": [],
   "source": []
  }
 ],
 "metadata": {
  "kernelspec": {
   "display_name": "Python 3",
   "language": "python",
   "name": "python3"
  },
  "language_info": {
   "codemirror_mode": {
    "name": "ipython",
    "version": 3
   },
   "file_extension": ".py",
   "mimetype": "text/x-python",
   "name": "python",
   "nbconvert_exporter": "python",
   "pygments_lexer": "ipython3",
   "version": "3.7.4"
  }
 },
 "nbformat": 4,
 "nbformat_minor": 1
}
