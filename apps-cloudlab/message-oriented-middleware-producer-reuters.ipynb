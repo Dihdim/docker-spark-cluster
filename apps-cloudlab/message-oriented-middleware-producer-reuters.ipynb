{
 "cells": [
  {
   "cell_type": "markdown",
   "metadata": {},
   "source": [
    "# <center> Kafka Producer for Reuters </center>"
   ]
  },
  {
   "cell_type": "code",
   "execution_count": 1,
   "metadata": {},
   "outputs": [
    {
     "name": "stdout",
     "output_type": "stream",
     "text": [
      "Created topic \"lngo\".\r\n"
     ]
    }
   ],
   "source": [
    "!/usr/hdp/current/kafka-broker/bin/kafka-topics.sh --create --zookeeper clnode222.clemson.cloudlab.us:2181 --replication-factor 1 --partitions 10 --topic lngo"
   ]
  },
  {
   "cell_type": "code",
   "execution_count": 8,
   "metadata": {},
   "outputs": [
    {
     "name": "stdout",
     "output_type": "stream",
     "text": [
      "__consumer_offsets\n",
      "dn882626\n",
      "ef936963\n",
      "fs926226\n",
      "lngo\n",
      "mg920115\n",
      "ms878494\n",
      "rm829084\n",
      "sp876427\n",
      "ss793889\n",
      "test\n",
      "wg889232\n"
     ]
    }
   ],
   "source": [
    "!/usr/hdp/current/kafka-broker/bin/kafka-topics.sh --list --zookeeper clnode222.clemson.cloudlab.us:2181"
   ]
  },
  {
   "cell_type": "markdown",
   "metadata": {},
   "source": [
    "To delete a topic:\n",
    "\n",
    "Remove the **#** sign to run the cell below. "
   ]
  },
  {
   "cell_type": "code",
   "execution_count": null,
   "metadata": {},
   "outputs": [],
   "source": [
    "#!/usr/hdp/current/kafka-broker/bin/kafka-topics.sh --zookeeper localhost:2181 --delete --topic test"
   ]
  },
  {
   "cell_type": "markdown",
   "metadata": {},
   "source": [
    "**Confluent_Kafka**\n",
    "\n",
    "Official python library from Confluent (company founded by Kafka original developers)\n",
    "https://docs.confluent.io/current/clients/confluent-kafka-python/"
   ]
  },
  {
   "cell_type": "code",
   "execution_count": null,
   "metadata": {
    "scrolled": true
   },
   "outputs": [],
   "source": [
    "from confluent_kafka import Producer\n",
    "import feedparser\n",
    "import sys\n",
    "import time\n",
    "import logging\n",
    "import json\n",
    "\n",
    "broker = 'clnode225.clemson.cloudlab.us:6667'\n",
    "topic = 'lngo_reuters'\n",
    "\n",
    "# Producer configuration\n",
    "# See https://github.com/edenhill/librdkafka/blob/master/CONFIGURATION.md\n",
    "conf = {'bootstrap.servers': broker}\n",
    "\n",
    "# Create Producer instance\n",
    "p = Producer(**conf)\n",
    "\n",
    "# Optional per-message delivery callback (triggered by poll() or flush())\n",
    "# when a message has been successfully delivered or permanently\n",
    "# failed delivery (after retries).\n",
    "def delivery_callback(err, msg):\n",
    "    if err:\n",
    "        sys.stderr.write('%% Message failed delivery: %s\\n' % err)\n",
    "    #else:\n",
    "        #sys.stderr.write('%% Message key %s delivered to %s [%d]\\n' % (msg.key(), msg.topic(), msg.partition()))\n",
    "\n",
    "        \n",
    "ts = 5\n",
    "dt = 5\n",
    "\n",
    "#for i in range(ts):\n",
    "while True:\n",
    "    d = feedparser.parse('http://feeds.reuters.com/reuters/WorldNews')\n",
    "    #print(\"\")\n",
    "    #print(\"**** PULLING FROM REUTERS  ****\")\n",
    "    #print(\"During this time step, we pull \" +  str(len(d.get('entries'))))\n",
    "    for entry in d.get('entries'):\n",
    "        #print(entry)\n",
    "        #print(\"****  \" + entry.get('author') + \": \" + entry.get('updated') + \": \" + entry.get('title'))\n",
    "        try:\n",
    "            p.produce(topic, json.dumps(entry), key=entry.get('title'), callback=delivery_callback)\n",
    "        except BufferError as e:\n",
    "            sys.stderr.write('%% Local producer queue is full (%d messages awaiting delivery): try again\\n' % len(p))\n",
    "        p.poll(0)\n",
    "    time.sleep(dt)\n",
    "\n",
    "# Wait until all messages have been delivered\n",
    "sys.stderr.write('%% Waiting for %d deliveries\\n' % len(p))\n",
    "p.flush()"
   ]
  },
  {
   "cell_type": "code",
   "execution_count": null,
   "metadata": {},
   "outputs": [],
   "source": []
  }
 ],
 "metadata": {
  "kernelspec": {
   "display_name": "Python 3",
   "language": "python",
   "name": "python3"
  },
  "language_info": {
   "codemirror_mode": {
    "name": "ipython",
    "version": 3
   },
   "file_extension": ".py",
   "mimetype": "text/x-python",
   "name": "python",
   "nbconvert_exporter": "python",
   "pygments_lexer": "ipython3",
   "version": "3.7.4"
  }
 },
 "nbformat": 4,
 "nbformat_minor": 1
}
